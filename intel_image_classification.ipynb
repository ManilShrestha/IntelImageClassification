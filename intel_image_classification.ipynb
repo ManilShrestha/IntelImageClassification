{
  "nbformat": 4,
  "nbformat_minor": 0,
  "metadata": {
    "colab": {
      "name": "intel_image_classification.ipynb",
      "provenance": [],
      "collapsed_sections": [],
      "mount_file_id": "1NjGULVRajOq4dcWlMAVcr9F1t4mKbQAO",
      "authorship_tag": "ABX9TyMy/tJy1m2GyXlZXRf+DNr1",
      "include_colab_link": true
    },
    "kernelspec": {
      "name": "python3",
      "display_name": "Python 3"
    },
    "language_info": {
      "name": "python"
    },
    "accelerator": "GPU"
  },
  "cells": [
    {
      "cell_type": "markdown",
      "metadata": {
        "id": "view-in-github",
        "colab_type": "text"
      },
      "source": [
        "<a href=\"https://colab.research.google.com/github/ManilShrestha/IntelImageClassification/blob/main/intel_image_classification.ipynb\" target=\"_parent\"><img src=\"https://colab.research.google.com/assets/colab-badge.svg\" alt=\"Open In Colab\"/></a>"
      ]
    },
    {
      "cell_type": "markdown",
      "metadata": {
        "id": "UTb48YwtdArw"
      },
      "source": [
        "# Section 1: Setup Parameters and Variables\n",
        "This section imports required libraries and sets up variables that are used throughout the notebook.\n",
        "Sets up transformation compositions, loads datasets and defines data loaders for pytorch module."
      ]
    },
    {
      "cell_type": "code",
      "metadata": {
        "id": "fDAH4TNGMjh6"
      },
      "source": [
        "# Importing required libraries\n",
        "from collections import OrderedDict\n",
        "from torchvision import datasets, transforms, models\n",
        "import numpy as np\n",
        "import pandas as pd\n",
        "import matplotlib.pyplot as plt\n",
        "import seaborn as sns\n",
        "import torch\n",
        "from torch import nn, optim\n",
        "from PIL import Image\n",
        "from datetime import datetime\n"
      ],
      "execution_count": 86,
      "outputs": []
    },
    {
      "cell_type": "code",
      "metadata": {
        "id": "GdZkChIBQDCs"
      },
      "source": [
        "# Setting up the directory where images are located for three sets: training, validation, testing\n",
        "# Data are store in google drive. It is mounted to this collab book\n",
        "training_dir = '/content/drive/MyDrive/ColabNotebooks/IntelImageClassification/seg_train/seg_train'\n",
        "validation_dir = '/content/drive/MyDrive/ColabNotebooks/IntelImageClassification/seg_val/seg_val'\n",
        "testing_dir = '/content/drive/MyDrive/ColabNotebooks/IntelImageClassification/seg_test/seg_test'"
      ],
      "execution_count": 10,
      "outputs": []
    },
    {
      "cell_type": "code",
      "metadata": {
        "id": "5f0p7gS4Qpnq"
      },
      "source": [
        "# Define transforms for the training, validation, and training sets\n",
        "# Training data is transformed for rotation and horizontal flip so that it can generalize\n",
        "training_transforms = transforms.Compose([ transforms.Resize(150)\n",
        "                                        , transforms.CenterCrop(150)\n",
        "                                        , transforms.RandomRotation(30)    # Does random 30 degrees rotations\n",
        "                                        , transforms.RandomHorizontalFlip()  # Does random horizontal flips to the image\n",
        "                                        , transforms.ToTensor()   # Converts the image into tensor array\n",
        "                                        , transforms.Normalize([0.485,0.456,0.406],[0.229,0.224,0.225])  # Mean and standard deviation, 3 values for the number of channels\n",
        "                                                                                                         # Values are for the pretrained models from imagenet dataset, using these for transfer learning is okay\n",
        "                                        ])\n",
        "\n",
        "validation_transforms = transforms.Compose([ transforms.Resize(150)\n",
        "                                            , transforms.CenterCrop(150)\n",
        "                                            , transforms.ToTensor()\n",
        "                                            , transforms.Normalize([0.485,0.456,0.406],[0.229,0.224,0.225])\n",
        "                                            ])\n",
        "\n",
        "testing_transforms = transforms.Compose([ transforms.Resize(150)\n",
        "                                         , transforms.CenterCrop(150)\n",
        "                                         , transforms.ToTensor()\n",
        "                                         , transforms.Normalize([0.485,0.456,0.406],[0.229,0.224,0.225])\n",
        "                                        ])"
      ],
      "execution_count": 11,
      "outputs": []
    },
    {
      "cell_type": "code",
      "metadata": {
        "id": "xfyHuJFMRN1w"
      },
      "source": [
        "# Load the datasets from using datasets.ImageFolder is a generic data loader where the images are arranged in folder structure separated by each class\n",
        "training_dataset = datasets.ImageFolder(training_dir, transform=training_transforms)\n",
        "validation_dataset = datasets.ImageFolder(validation_dir, transform = validation_transforms)\n",
        "test_dataset = datasets.ImageFolder(testing_dir, transform=testing_transforms)"
      ],
      "execution_count": 12,
      "outputs": []
    },
    {
      "cell_type": "code",
      "metadata": {
        "id": "-TuvtGj9RsVv"
      },
      "source": [
        "# Defining dataloaders for training, validation and testing. The batch size determines the number of images sent into model at a time\n",
        "train_loader = torch.utils.data.DataLoader(training_dataset, batch_size=32, shuffle=True)\n",
        "validate_loader = torch.utils.data.DataLoader(validation_dataset, batch_size=32)\n",
        "test_loader = torch.utils.data.DataLoader(test_dataset, batch_size=32)"
      ],
      "execution_count": 13,
      "outputs": []
    },
    {
      "cell_type": "markdown",
      "metadata": {
        "id": "oFGDRTMDdnWE"
      },
      "source": [
        "# Section 2: Transfer Learning on VGG16 model\n",
        "A pretrained VGG16 model is initialized. Feature parameters are frozen and new classfier network is defined for the DNN."
      ]
    },
    {
      "cell_type": "code",
      "metadata": {
        "colab": {
          "base_uri": "https://localhost:8080/"
        },
        "id": "uaJMKXY7Vb92",
        "outputId": "12b653b4-7648-408f-d539-f401318018e5"
      },
      "source": [
        "# Transfer learning from torchvision's pre given model vgg16\n",
        "cnn_model = models.vgg16(pretrained=True)\n",
        "cnn_model"
      ],
      "execution_count": 14,
      "outputs": [
        {
          "output_type": "execute_result",
          "data": {
            "text/plain": [
              "VGG(\n",
              "  (features): Sequential(\n",
              "    (0): Conv2d(3, 64, kernel_size=(3, 3), stride=(1, 1), padding=(1, 1))\n",
              "    (1): ReLU(inplace=True)\n",
              "    (2): Conv2d(64, 64, kernel_size=(3, 3), stride=(1, 1), padding=(1, 1))\n",
              "    (3): ReLU(inplace=True)\n",
              "    (4): MaxPool2d(kernel_size=2, stride=2, padding=0, dilation=1, ceil_mode=False)\n",
              "    (5): Conv2d(64, 128, kernel_size=(3, 3), stride=(1, 1), padding=(1, 1))\n",
              "    (6): ReLU(inplace=True)\n",
              "    (7): Conv2d(128, 128, kernel_size=(3, 3), stride=(1, 1), padding=(1, 1))\n",
              "    (8): ReLU(inplace=True)\n",
              "    (9): MaxPool2d(kernel_size=2, stride=2, padding=0, dilation=1, ceil_mode=False)\n",
              "    (10): Conv2d(128, 256, kernel_size=(3, 3), stride=(1, 1), padding=(1, 1))\n",
              "    (11): ReLU(inplace=True)\n",
              "    (12): Conv2d(256, 256, kernel_size=(3, 3), stride=(1, 1), padding=(1, 1))\n",
              "    (13): ReLU(inplace=True)\n",
              "    (14): Conv2d(256, 256, kernel_size=(3, 3), stride=(1, 1), padding=(1, 1))\n",
              "    (15): ReLU(inplace=True)\n",
              "    (16): MaxPool2d(kernel_size=2, stride=2, padding=0, dilation=1, ceil_mode=False)\n",
              "    (17): Conv2d(256, 512, kernel_size=(3, 3), stride=(1, 1), padding=(1, 1))\n",
              "    (18): ReLU(inplace=True)\n",
              "    (19): Conv2d(512, 512, kernel_size=(3, 3), stride=(1, 1), padding=(1, 1))\n",
              "    (20): ReLU(inplace=True)\n",
              "    (21): Conv2d(512, 512, kernel_size=(3, 3), stride=(1, 1), padding=(1, 1))\n",
              "    (22): ReLU(inplace=True)\n",
              "    (23): MaxPool2d(kernel_size=2, stride=2, padding=0, dilation=1, ceil_mode=False)\n",
              "    (24): Conv2d(512, 512, kernel_size=(3, 3), stride=(1, 1), padding=(1, 1))\n",
              "    (25): ReLU(inplace=True)\n",
              "    (26): Conv2d(512, 512, kernel_size=(3, 3), stride=(1, 1), padding=(1, 1))\n",
              "    (27): ReLU(inplace=True)\n",
              "    (28): Conv2d(512, 512, kernel_size=(3, 3), stride=(1, 1), padding=(1, 1))\n",
              "    (29): ReLU(inplace=True)\n",
              "    (30): MaxPool2d(kernel_size=2, stride=2, padding=0, dilation=1, ceil_mode=False)\n",
              "  )\n",
              "  (avgpool): AdaptiveAvgPool2d(output_size=(7, 7))\n",
              "  (classifier): Sequential(\n",
              "    (0): Linear(in_features=25088, out_features=4096, bias=True)\n",
              "    (1): ReLU(inplace=True)\n",
              "    (2): Dropout(p=0.5, inplace=False)\n",
              "    (3): Linear(in_features=4096, out_features=4096, bias=True)\n",
              "    (4): ReLU(inplace=True)\n",
              "    (5): Dropout(p=0.5, inplace=False)\n",
              "    (6): Linear(in_features=4096, out_features=1000, bias=True)\n",
              "  )\n",
              ")"
            ]
          },
          "metadata": {
            "tags": []
          },
          "execution_count": 14
        }
      ]
    },
    {
      "cell_type": "code",
      "metadata": {
        "colab": {
          "base_uri": "https://localhost:8080/"
        },
        "id": "40civLBbVi22",
        "outputId": "4e8a3f52-7850-45ae-e78d-0b8231b17d22"
      },
      "source": [
        "# Freeze the pretrained model parameters. We need the pretrained feature parameters, but need to change the classifier part\n",
        "for p in cnn_model.parameters():\n",
        "  p.requires_grad = False\n",
        "\n",
        "# Build a custom classifer\n",
        "my_classifier = nn.Sequential(OrderedDict([('Linear1_Transform', nn.Linear(25088, 8000))   # Takes in 25088 input points from the pretrained VGG model, performs linear transformation and gives 8000 output points\n",
        "                                        , ('ReLU1_Activation', nn.ReLU())              # Rectified Linear Unit activation\n",
        "                                        , ('Dropout1', nn.Dropout(p = 0.5))            # randomly zeroes some of the elements of the input tensor with probability of 0.5 using samples from a Bernoulli distribution\n",
        "                                        , ('Linear2_Transform', nn.Linear(8000,6))    # Linear transform, from 8000 input points to 1000 points\n",
        "                                        # , ('ReLU2_Activation', nn.ReLU())              # Second Rectified Linear Unit activation\n",
        "                                        # , ('Dropout2', nn.Dropout(p = 0.5))            # randomly zeroes some of the elements of the input tensor with probability of 0.5 using samples from a Bernoulli distribution\n",
        "                                        # , ('Linear3_Transform', nn.Linear(1000,6))    # Third linear transform, from 1000 input points to 6 points\n",
        "                                        , ('LogSoftmaxOutput', nn.LogSoftmax(dim=1))  # Log Softmax activation\n",
        "                                        ]))\n",
        "\n",
        "cnn_model.classifier = my_classifier    # Assign the newly created classifier as the classifier for the model\n",
        "\n",
        "cnn_model"
      ],
      "execution_count": 15,
      "outputs": [
        {
          "output_type": "execute_result",
          "data": {
            "text/plain": [
              "VGG(\n",
              "  (features): Sequential(\n",
              "    (0): Conv2d(3, 64, kernel_size=(3, 3), stride=(1, 1), padding=(1, 1))\n",
              "    (1): ReLU(inplace=True)\n",
              "    (2): Conv2d(64, 64, kernel_size=(3, 3), stride=(1, 1), padding=(1, 1))\n",
              "    (3): ReLU(inplace=True)\n",
              "    (4): MaxPool2d(kernel_size=2, stride=2, padding=0, dilation=1, ceil_mode=False)\n",
              "    (5): Conv2d(64, 128, kernel_size=(3, 3), stride=(1, 1), padding=(1, 1))\n",
              "    (6): ReLU(inplace=True)\n",
              "    (7): Conv2d(128, 128, kernel_size=(3, 3), stride=(1, 1), padding=(1, 1))\n",
              "    (8): ReLU(inplace=True)\n",
              "    (9): MaxPool2d(kernel_size=2, stride=2, padding=0, dilation=1, ceil_mode=False)\n",
              "    (10): Conv2d(128, 256, kernel_size=(3, 3), stride=(1, 1), padding=(1, 1))\n",
              "    (11): ReLU(inplace=True)\n",
              "    (12): Conv2d(256, 256, kernel_size=(3, 3), stride=(1, 1), padding=(1, 1))\n",
              "    (13): ReLU(inplace=True)\n",
              "    (14): Conv2d(256, 256, kernel_size=(3, 3), stride=(1, 1), padding=(1, 1))\n",
              "    (15): ReLU(inplace=True)\n",
              "    (16): MaxPool2d(kernel_size=2, stride=2, padding=0, dilation=1, ceil_mode=False)\n",
              "    (17): Conv2d(256, 512, kernel_size=(3, 3), stride=(1, 1), padding=(1, 1))\n",
              "    (18): ReLU(inplace=True)\n",
              "    (19): Conv2d(512, 512, kernel_size=(3, 3), stride=(1, 1), padding=(1, 1))\n",
              "    (20): ReLU(inplace=True)\n",
              "    (21): Conv2d(512, 512, kernel_size=(3, 3), stride=(1, 1), padding=(1, 1))\n",
              "    (22): ReLU(inplace=True)\n",
              "    (23): MaxPool2d(kernel_size=2, stride=2, padding=0, dilation=1, ceil_mode=False)\n",
              "    (24): Conv2d(512, 512, kernel_size=(3, 3), stride=(1, 1), padding=(1, 1))\n",
              "    (25): ReLU(inplace=True)\n",
              "    (26): Conv2d(512, 512, kernel_size=(3, 3), stride=(1, 1), padding=(1, 1))\n",
              "    (27): ReLU(inplace=True)\n",
              "    (28): Conv2d(512, 512, kernel_size=(3, 3), stride=(1, 1), padding=(1, 1))\n",
              "    (29): ReLU(inplace=True)\n",
              "    (30): MaxPool2d(kernel_size=2, stride=2, padding=0, dilation=1, ceil_mode=False)\n",
              "  )\n",
              "  (avgpool): AdaptiveAvgPool2d(output_size=(7, 7))\n",
              "  (classifier): Sequential(\n",
              "    (Linear1_Transform): Linear(in_features=25088, out_features=8000, bias=True)\n",
              "    (ReLU1_Activation): ReLU()\n",
              "    (Dropout1): Dropout(p=0.5, inplace=False)\n",
              "    (Linear2_Transform): Linear(in_features=8000, out_features=6, bias=True)\n",
              "    (LogSoftmaxOutput): LogSoftmax(dim=1)\n",
              "  )\n",
              ")"
            ]
          },
          "metadata": {
            "tags": []
          },
          "execution_count": 15
        }
      ]
    },
    {
      "cell_type": "markdown",
      "metadata": {
        "id": "b3miSRf6ePd3"
      },
      "source": [
        "# Section 3: Loss Functions and Optimizers\n",
        "Define loss function to be used in Neural Network. Also, initialize different optimizer functions to be tested as part of the project: \n",
        "\n",
        "1.   Stochastic Gradient Descent (SGD)\n",
        "2.   Adaptive Moment Estimation (Adam)\n",
        "3.   Root Mean Square Propagation (RMS Prop)\n",
        "\n",
        "This section also defines evaluate() function that checks the performance of model on the data passed in validate_loader, based on loss function provided.\n",
        "\n"
      ]
    },
    {
      "cell_type": "code",
      "metadata": {
        "id": "wAFNlYQaWIA8"
      },
      "source": [
        "# Loss function definition and gradient descent\n",
        "loss_function = nn.NLLLoss()                # Negative log likelihood loss function  \n",
        "sgd_optimizer = optim.SGD(cnn_model.classifier.parameters(),lr = 0.001, momentum=0.9)  # Stochastic Gradient Descent with momentum of 0.9\n",
        "adam_optimizer = optim.Adam(cnn_model.classifier.parameters(), lr = 0.001)     # Adam is an algorithm for first-order gradient-based optimization of stochastic objective functions, based on adaptive estimates of lower-order moments\n",
        "rms_prop_optimizer = optim.RMSprop(cnn_model.classifier.parameters(), lr = 0.001) # Implements Adagrad algorithm"
      ],
      "execution_count": 16,
      "outputs": []
    },
    {
      "cell_type": "code",
      "metadata": {
        "id": "OXtLVYqAY_2z"
      },
      "source": [
        "# Evaluation of the model, \n",
        "def evaluate(cnn_model, validate_loader, loss_function):\n",
        "\n",
        "  loss = 0\n",
        "  accuracy = 0\n",
        "\n",
        "  for images, labels in iter(validate_loader):\n",
        "    images, labels = images.to('cuda'), labels.to('cuda')   # To operate on GPU, need to mention CUDA\n",
        "    \n",
        "    # Get the output from the given images\n",
        "    output = cnn_model.forward(images)                # Pass the image batch into model and capture output\n",
        "    loss += loss_function(output, labels).item()  # Calculate the loss based on the loss_function passed as a parameter\n",
        "\n",
        "    probability = torch.exp(output)             # Probability is the exponential of output since, output is log softmax\n",
        "\n",
        "    is_equal = (labels.data == probability.max(dim=1)[1])  # Checks if the labelled data is equal to the model prediction\n",
        "\n",
        "    accuracy += is_equal.type(torch.FloatTensor).mean()      # Accuracy is sum of mean of equality over the batch sample\n",
        "\n",
        "  return loss, accuracy"
      ],
      "execution_count": 17,
      "outputs": []
    },
    {
      "cell_type": "code",
      "metadata": {
        "colab": {
          "base_uri": "https://localhost:8080/"
        },
        "id": "zJVTCvxftBWp",
        "outputId": "c1c44b90-f42a-4b27-f500-8d5eea8d92f4"
      },
      "source": [
        "current_time = datetime.now().strftime(\"%H:%M:%S\")\n",
        "print(\"Start Time =\", current_time)\n",
        "for images, labels in iter(train_loader):\n",
        "  print(labels)\n",
        "  break\n",
        "\n",
        "current_time = datetime.now().strftime(\"%H:%M:%S\")\n",
        "print(\"End Time =\", current_time)"
      ],
      "execution_count": 18,
      "outputs": [
        {
          "output_type": "stream",
          "text": [
            "Start Time = 16:23:07\n",
            "tensor([4, 1, 5, 1, 5, 3, 5, 0, 5, 0, 3, 3, 5, 1, 3, 2, 2, 3, 1, 3, 2, 1, 5, 4,\n",
            "        0, 0, 3, 0, 5, 0, 4, 1])\n",
            "End Time = 16:23:21\n"
          ],
          "name": "stdout"
        }
      ]
    },
    {
      "cell_type": "markdown",
      "metadata": {
        "id": "hzElhtQffqFY"
      },
      "source": [
        "There are 6 predefined classes in Intel Image Classification Dataset: Buildings , Forest, Glacier, Mountain, Sea & Street\n",
        "\n",
        "Training Dataset Size = 14034, Validation Dataset Size = 1200 and Testing Dataset Size = 3000"
      ]
    },
    {
      "cell_type": "code",
      "metadata": {
        "colab": {
          "base_uri": "https://localhost:8080/"
        },
        "id": "2ewrowJDuwUm",
        "outputId": "9dba269b-de21-4df0-87dc-391e1f8deee3"
      },
      "source": [
        "# Setting up index and their actual names\n",
        "%pwd\n",
        "import json\n",
        "with open('/content/drive/MyDrive/ColabNotebooks/IntelImageClassification/class_index.json', 'r') as f:\n",
        "  class_names = json.load(f)\n",
        "\n",
        "print(\"Total Class: \", len(class_names),\"\\n\", class_names)\n",
        "print(\"\\nTraining Data Size: \", len(training_dataset))\n",
        "print(\"Validation Data Size: \", len(validation_dataset))\n",
        "print(\"Testing Data Size: \", len(test_dataset))"
      ],
      "execution_count": 105,
      "outputs": [
        {
          "output_type": "stream",
          "text": [
            "Total Class:  6 \n",
            " {'0': 'buildings', '1': 'forest', '2': 'glacier', '3': 'mountain', '4': 'sea', '5': 'street'}\n",
            "\n",
            "Training Data Size:  14034\n",
            "Validation Data Size:  1200\n",
            "Testing Data Size:  3000\n"
          ],
          "name": "stdout"
        }
      ]
    },
    {
      "cell_type": "markdown",
      "metadata": {
        "id": "uox8dJ60hxYb"
      },
      "source": [
        "# Section 4: Train Classifier\n",
        "This section trains the classifier based on training data set, evaluates the performance on validation data and training data. To train this model, a GPU session needs to be activated (Runtime -> Change runtime type).\n",
        "\n",
        "If you have a pretrained pytorch model on Intel Image Classification dataset, please skip this part. Go to **Section 5: Classify images**"
      ]
    },
    {
      "cell_type": "code",
      "metadata": {
        "id": "mLYyT8ugxtPq"
      },
      "source": [
        "# This function saves the trained model so that retraining is not required everytime classifier needs to be used.\n",
        "def save_trained_model(cnn_model, filepath=None):\n",
        "  if filepath:\n",
        "    path = filepath + '/trained_model.data'\n",
        "  else:\n",
        "    path = 'trained_model.data'\n",
        "  \n",
        "  # Storing actual class name and the indices created by pytorch for the model training\n",
        "  cnn_model.class_to_idx = training_dataset.class_to_idx\n",
        "\n",
        "  # Model info as dictionary\n",
        "  model_info = {'architecture':\"vgg16\"\n",
        "                , 'class_to_idx': cnn_model.class_to_idx\n",
        "                , 'model_state_dict': cnn_model.state_dict()\n",
        "                }\n",
        "  torch.save(model_info, path)"
      ],
      "execution_count": 20,
      "outputs": []
    },
    {
      "cell_type": "code",
      "metadata": {
        "id": "Its2BLQk1qkX",
        "colab": {
          "base_uri": "https://localhost:8080/"
        },
        "outputId": "6655f324-c66b-4e0e-9b9a-b21aba70db26"
      },
      "source": [
        "gpu_info = !nvidia-smi\n",
        "gpu_info = '\\n'.join(gpu_info)\n",
        "if gpu_info.find('failed') >= 0:\n",
        "  print('Select the Runtime > \"Change runtime type\" menu to enable a GPU accelerator, ')\n",
        "  print('and then re-execute this cell.')\n",
        "else:\n",
        "  print(gpu_info)"
      ],
      "execution_count": 21,
      "outputs": [
        {
          "output_type": "stream",
          "text": [
            "Mon May 31 16:23:29 2021       \n",
            "+-----------------------------------------------------------------------------+\n",
            "| NVIDIA-SMI 465.19.01    Driver Version: 460.32.03    CUDA Version: 11.2     |\n",
            "|-------------------------------+----------------------+----------------------+\n",
            "| GPU  Name        Persistence-M| Bus-Id        Disp.A | Volatile Uncorr. ECC |\n",
            "| Fan  Temp  Perf  Pwr:Usage/Cap|         Memory-Usage | GPU-Util  Compute M. |\n",
            "|                               |                      |               MIG M. |\n",
            "|===============================+======================+======================|\n",
            "|   0  Tesla P100-PCIE...  Off  | 00000000:00:04.0 Off |                    0 |\n",
            "| N/A   35C    P0    26W / 250W |      0MiB / 16280MiB |      0%      Default |\n",
            "|                               |                      |                  N/A |\n",
            "+-------------------------------+----------------------+----------------------+\n",
            "                                                                               \n",
            "+-----------------------------------------------------------------------------+\n",
            "| Processes:                                                                  |\n",
            "|  GPU   GI   CI        PID   Type   Process name                  GPU Memory |\n",
            "|        ID   ID                                                   Usage      |\n",
            "|=============================================================================|\n",
            "|  No running processes found                                                 |\n",
            "+-----------------------------------------------------------------------------+\n"
          ],
          "name": "stdout"
        }
      ]
    },
    {
      "cell_type": "code",
      "metadata": {
        "colab": {
          "base_uri": "https://localhost:8080/"
        },
        "id": "EQdCcX4Kp1Jk",
        "outputId": "a2846bb7-779c-4bae-f920-2072d1fed343"
      },
      "source": [
        "# Adam Optmizer:\n",
        "# Run time: 14:32:41 - 14:18:22 = 0:24:19\n",
        "# Epoch size: 10\n",
        "# This function trains the model based on training data\n",
        "def train_classifier_adam():\n",
        "  # Set up hyper parameters\n",
        "  total_epochs = 10\n",
        "  steps = 0\n",
        "\n",
        "  # Training start time\n",
        "  current_time = datetime.now().strftime(\"%H:%M:%S\")\n",
        "  print(\"Start Time =\", current_time)\n",
        "\n",
        "  cnn_model.to('cuda')    # Making the model run on GPU\n",
        "  \n",
        "  for epoch in range(total_epochs):   # Will iterate through epochs\n",
        "    cnn_model.train()         # Set model to training mode\n",
        "    cumulative_loss = 0     # This variable stores the total loss for each epoch until it is printed\n",
        "\n",
        "    for image_batch, label_batch in iter(train_loader):\n",
        "      steps += 1\n",
        "      #print(steps)\n",
        "      image_batch, label_batch = image_batch.to('cuda'), label_batch.to('cuda')\n",
        "      adam_optimizer.zero_grad()     # we need to set the gradients to zero before starting to do backpropragation because PyTorch accumulates the gradients on subsequent backward passes\n",
        "\n",
        "      output = cnn_model.forward(image_batch)  # Pass the image batch into model\n",
        "      loss = loss_function(output, label_batch)  # It is a NLLLoss, a negative log likelihood loss function\n",
        "\n",
        "      loss.backward()   # loss.backward() computes dloss/dx for every parameter x which has requires_grad=True. These are accumulated into x.grad for every parameter x.\n",
        "      adam_optimizer.step()  # optimizer.step performs a parameter update based on the current gradient (stored in .grad attribute of a parameter) and the update rule\n",
        "\n",
        "      cumulative_loss += loss.item()    # item() method extracts the loss’s value as a Python float. Cumulative loss accumulates sum of running loss over each epoch\n",
        "\n",
        "      if steps%25 == 0:\n",
        "        print(\"Batch Running: {}\".format(steps * 64))\n",
        "\n",
        "    cnn_model.eval()      # Turn model into evaluation mode\n",
        "    \n",
        "    # Turning off gradients for evaluation of the model\n",
        "    with torch.no_grad():\n",
        "      validation_loss, accuracy = evaluate(cnn_model, validate_loader, loss_function)     # Based on parameters passed, calculate validation loss and accuracy on validation dataset\n",
        "\n",
        "      print(\"Epoch: {} of {}\".format(epoch + 1, total_epochs),                                 # Epoch number\n",
        "      \"Training NLL Loss: {:.3f}\".format(cumulative_loss/len(train_loader)),                 # Average training loss\n",
        "      \"Validation NLL Loss: {:.3f}\".format(validation_loss/len(validate_loader)),   # Average validation loss: validation loss divided by total validation data set size\n",
        "      \"Validation Accuracy: {:.3f}\".format(accuracy/len(validate_loader)))      # Average accuracy\n",
        "      \n",
        "      cumulative_loss = 0    # Reset running loss\n",
        "      cnn_model.train()       # Turn back training mode\n",
        "\n",
        "    steps = 0\n",
        "  # Training end time\n",
        "  current_time = datetime.now().strftime(\"%H:%M:%S\")\n",
        "  print(\"End Time =\", current_time)\n",
        "\n",
        "train_classifier_adam()\n",
        "\n",
        "# Saving the trained CNN model into file \n",
        "save_trained_model(cnn_model,'/content/drive/MyDrive/ColabNotebooks/IntelImageClassification')"
      ],
      "execution_count": null,
      "outputs": [
        {
          "output_type": "stream",
          "text": [
            "Start Time = 14:18:22\n",
            "Batch Running: 1600\n",
            "Batch Running: 3200\n",
            "Batch Running: 4800\n",
            "Batch Running: 6400\n",
            "Batch Running: 8000\n",
            "Batch Running: 9600\n",
            "Batch Running: 11200\n",
            "Batch Running: 12800\n",
            "Batch Running: 14400\n",
            "Batch Running: 16000\n",
            "Batch Running: 17600\n",
            "Batch Running: 19200\n",
            "Batch Running: 20800\n",
            "Batch Running: 22400\n",
            "Batch Running: 24000\n",
            "Batch Running: 25600\n",
            "Batch Running: 27200\n",
            "Epoch: 1 of 10 Training NLL Loss: 1.713 Validation NLL Loss: 0.704 Validation Accuracy: 0.885\n",
            "Batch Running: 1600\n",
            "Batch Running: 3200\n",
            "Batch Running: 4800\n",
            "Batch Running: 6400\n",
            "Batch Running: 8000\n",
            "Batch Running: 9600\n",
            "Batch Running: 11200\n",
            "Batch Running: 12800\n",
            "Batch Running: 14400\n",
            "Batch Running: 16000\n",
            "Batch Running: 17600\n",
            "Batch Running: 19200\n",
            "Batch Running: 20800\n",
            "Batch Running: 22400\n",
            "Batch Running: 24000\n",
            "Batch Running: 25600\n",
            "Batch Running: 27200\n",
            "Epoch: 2 of 10 Training NLL Loss: 0.620 Validation NLL Loss: 0.381 Validation Accuracy: 0.896\n",
            "Batch Running: 1600\n",
            "Batch Running: 3200\n",
            "Batch Running: 4800\n",
            "Batch Running: 6400\n",
            "Batch Running: 8000\n",
            "Batch Running: 9600\n",
            "Batch Running: 11200\n",
            "Batch Running: 12800\n",
            "Batch Running: 14400\n",
            "Batch Running: 16000\n",
            "Batch Running: 17600\n",
            "Batch Running: 19200\n",
            "Batch Running: 20800\n",
            "Batch Running: 22400\n",
            "Batch Running: 24000\n",
            "Batch Running: 25600\n",
            "Batch Running: 27200\n",
            "Epoch: 3 of 10 Training NLL Loss: 0.553 Validation NLL Loss: 0.554 Validation Accuracy: 0.900\n",
            "Batch Running: 1600\n",
            "Batch Running: 3200\n",
            "Batch Running: 4800\n",
            "Batch Running: 6400\n",
            "Batch Running: 8000\n",
            "Batch Running: 9600\n",
            "Batch Running: 11200\n",
            "Batch Running: 12800\n",
            "Batch Running: 14400\n",
            "Batch Running: 16000\n",
            "Batch Running: 17600\n",
            "Batch Running: 19200\n",
            "Batch Running: 20800\n",
            "Batch Running: 22400\n",
            "Batch Running: 24000\n",
            "Batch Running: 25600\n",
            "Batch Running: 27200\n",
            "Epoch: 4 of 10 Training NLL Loss: 0.599 Validation NLL Loss: 0.473 Validation Accuracy: 0.900\n",
            "Batch Running: 1600\n",
            "Batch Running: 3200\n",
            "Batch Running: 4800\n",
            "Batch Running: 6400\n",
            "Batch Running: 8000\n",
            "Batch Running: 9600\n",
            "Batch Running: 11200\n",
            "Batch Running: 12800\n",
            "Batch Running: 14400\n",
            "Batch Running: 16000\n",
            "Batch Running: 17600\n",
            "Batch Running: 19200\n",
            "Batch Running: 20800\n",
            "Batch Running: 22400\n",
            "Batch Running: 24000\n",
            "Batch Running: 25600\n",
            "Batch Running: 27200\n",
            "Epoch: 5 of 10 Training NLL Loss: 0.522 Validation NLL Loss: 0.479 Validation Accuracy: 0.903\n",
            "Batch Running: 1600\n",
            "Batch Running: 3200\n",
            "Batch Running: 4800\n",
            "Batch Running: 6400\n",
            "Batch Running: 8000\n",
            "Batch Running: 9600\n",
            "Batch Running: 11200\n",
            "Batch Running: 12800\n",
            "Batch Running: 14400\n",
            "Batch Running: 16000\n",
            "Batch Running: 17600\n",
            "Batch Running: 19200\n",
            "Batch Running: 20800\n",
            "Batch Running: 22400\n",
            "Batch Running: 24000\n",
            "Batch Running: 25600\n",
            "Batch Running: 27200\n",
            "Epoch: 6 of 10 Training NLL Loss: 0.499 Validation NLL Loss: 0.409 Validation Accuracy: 0.904\n",
            "Batch Running: 1600\n",
            "Batch Running: 3200\n",
            "Batch Running: 4800\n",
            "Batch Running: 6400\n",
            "Batch Running: 8000\n",
            "Batch Running: 9600\n",
            "Batch Running: 11200\n",
            "Batch Running: 12800\n",
            "Batch Running: 14400\n",
            "Batch Running: 16000\n",
            "Batch Running: 17600\n",
            "Batch Running: 19200\n",
            "Batch Running: 20800\n",
            "Batch Running: 22400\n",
            "Batch Running: 24000\n",
            "Batch Running: 25600\n",
            "Batch Running: 27200\n",
            "Epoch: 7 of 10 Training NLL Loss: 0.463 Validation NLL Loss: 0.616 Validation Accuracy: 0.879\n",
            "Batch Running: 1600\n",
            "Batch Running: 3200\n",
            "Batch Running: 4800\n",
            "Batch Running: 6400\n",
            "Batch Running: 8000\n",
            "Batch Running: 9600\n",
            "Batch Running: 11200\n",
            "Batch Running: 12800\n",
            "Batch Running: 14400\n",
            "Batch Running: 16000\n",
            "Batch Running: 17600\n",
            "Batch Running: 19200\n",
            "Batch Running: 20800\n",
            "Batch Running: 22400\n",
            "Batch Running: 24000\n",
            "Batch Running: 25600\n",
            "Batch Running: 27200\n",
            "Epoch: 8 of 10 Training NLL Loss: 0.506 Validation NLL Loss: 0.612 Validation Accuracy: 0.890\n",
            "Batch Running: 1600\n",
            "Batch Running: 3200\n",
            "Batch Running: 4800\n",
            "Batch Running: 6400\n",
            "Batch Running: 8000\n",
            "Batch Running: 9600\n",
            "Batch Running: 11200\n",
            "Batch Running: 12800\n",
            "Batch Running: 14400\n",
            "Batch Running: 16000\n",
            "Batch Running: 17600\n",
            "Batch Running: 19200\n",
            "Batch Running: 20800\n",
            "Batch Running: 22400\n",
            "Batch Running: 24000\n",
            "Batch Running: 25600\n",
            "Batch Running: 27200\n",
            "Epoch: 9 of 10 Training NLL Loss: 0.500 Validation NLL Loss: 0.512 Validation Accuracy: 0.900\n",
            "Batch Running: 1600\n",
            "Batch Running: 3200\n",
            "Batch Running: 4800\n",
            "Batch Running: 6400\n",
            "Batch Running: 8000\n",
            "Batch Running: 9600\n",
            "Batch Running: 11200\n",
            "Batch Running: 12800\n",
            "Batch Running: 14400\n",
            "Batch Running: 16000\n",
            "Batch Running: 17600\n",
            "Batch Running: 19200\n",
            "Batch Running: 20800\n",
            "Batch Running: 22400\n",
            "Batch Running: 24000\n",
            "Batch Running: 25600\n",
            "Batch Running: 27200\n",
            "Epoch: 10 of 10 Training NLL Loss: 0.483 Validation NLL Loss: 0.521 Validation Accuracy: 0.896\n",
            "End Time = 14:32:41\n"
          ],
          "name": "stdout"
        }
      ]
    },
    {
      "cell_type": "code",
      "metadata": {
        "id": "2i3fMxGc2S59",
        "colab": {
          "base_uri": "https://localhost:8080/"
        },
        "outputId": "e0454209-a27d-4cd7-8bb9-537c50d1a1fb"
      },
      "source": [
        "# SGD Optmizer: \n",
        "# Run time: 15:07:03 - 14:56:23 :  0:11:40\n",
        "# Epoch size: 10\n",
        "# This function trains the model based on training data\n",
        "def train_classifier_sgd():\n",
        "  # Set up hyper parameters\n",
        "  total_epochs = 10\n",
        "  steps = 0\n",
        "\n",
        "  # Training start time\n",
        "  current_time = datetime.now().strftime(\"%H:%M:%S\")\n",
        "  print(\"Start Time =\", current_time)\n",
        "\n",
        "  cnn_model.to('cuda')    # Making the model run on GPU\n",
        "  \n",
        "  for epoch in range(total_epochs):   # Will iterate through epochs\n",
        "    cnn_model.train()         # Set model to training mode\n",
        "    cumulative_loss = 0     # This variable stores the total loss for each epoch until it is printed\n",
        "\n",
        "    for image_batch, label_batch in iter(train_loader):\n",
        "      steps += 1\n",
        "      #print(steps)\n",
        "      image_batch, label_batch = image_batch.to('cuda'), label_batch.to('cuda')\n",
        "      sgd_optimizer.zero_grad()     # we need to set the gradients to zero before starting to do backpropragation because PyTorch accumulates the gradients on subsequent backward passes\n",
        "\n",
        "      output = cnn_model.forward(image_batch)  # Pass the image batch into model\n",
        "      loss = loss_function(output, label_batch)  # It is a NLLLoss, a negative log likelihood loss function\n",
        "\n",
        "      loss.backward()   # loss.backward() computes dloss/dx for every parameter x which has requires_grad=True. These are accumulated into x.grad for every parameter x.\n",
        "      sgd_optimizer.step()  # optimizer.step performs a parameter update based on the current gradient (stored in .grad attribute of a parameter) and the update rule\n",
        "\n",
        "      cumulative_loss += loss.item()    # item() method extracts the loss’s value as a Python float. Cumulative loss accumulates sum of running loss over each epoch\n",
        "\n",
        "      # if steps%25 == 0:\n",
        "      #   print(\"Batch Running: {}\".format(steps * 32))\n",
        "\n",
        "    cnn_model.eval()      # Turn model into evaluation mode\n",
        "    \n",
        "    # Turning off gradients for evaluation of the model\n",
        "    with torch.no_grad():\n",
        "      validation_loss, accuracy = evaluate(cnn_model, validate_loader, loss_function)     # Based on parameters passed, calculate validation loss and accuracy on validation dataset\n",
        "\n",
        "      print(\"Epoch: {} of {}\".format(epoch + 1, total_epochs),                                 # Epoch number\n",
        "      \"Training NLL Loss: {:.3f}\".format(cumulative_loss/len(train_loader)),                 # Average training loss\n",
        "      \"Validation NLL Loss: {:.3f}\".format(validation_loss/len(validate_loader)),   # Average validation loss: validation loss divided by total validation data set size\n",
        "      \"Validation Accuracy: {:.3f}\".format(accuracy/len(validate_loader)))      # Average accuracy\n",
        "      \n",
        "      cumulative_loss = 0    # Reset running loss\n",
        "      cnn_model.train()       # Turn back training mode\n",
        "\n",
        "    steps = 0\n",
        "  # Training end time\n",
        "  current_time = datetime.now().strftime(\"%H:%M:%S\")\n",
        "  print(\"End Time =\", current_time)\n",
        "\n",
        "train_classifier_sgd()\n",
        "\n",
        "# Saving the trained CNN model into file \n",
        "save_trained_model(cnn_model,'/content/drive/MyDrive/ColabNotebooks/IntelImageClassification')"
      ],
      "execution_count": 74,
      "outputs": [
        {
          "output_type": "stream",
          "text": [
            "Start Time = 14:56:23\n",
            "Epoch: 1 of 10 Training NLL Loss: 0.402 Validation NLL Loss: 0.274 Validation Accuracy: 0.906\n",
            "Epoch: 2 of 10 Training NLL Loss: 0.344 Validation NLL Loss: 0.255 Validation Accuracy: 0.910\n",
            "Epoch: 3 of 10 Training NLL Loss: 0.317 Validation NLL Loss: 0.240 Validation Accuracy: 0.908\n",
            "Epoch: 4 of 10 Training NLL Loss: 0.307 Validation NLL Loss: 0.236 Validation Accuracy: 0.911\n",
            "Epoch: 5 of 10 Training NLL Loss: 0.282 Validation NLL Loss: 0.269 Validation Accuracy: 0.904\n",
            "Epoch: 6 of 10 Training NLL Loss: 0.272 Validation NLL Loss: 0.224 Validation Accuracy: 0.919\n",
            "Epoch: 7 of 10 Training NLL Loss: 0.262 Validation NLL Loss: 0.227 Validation Accuracy: 0.918\n",
            "Epoch: 8 of 10 Training NLL Loss: 0.257 Validation NLL Loss: 0.230 Validation Accuracy: 0.914\n",
            "Epoch: 9 of 10 Training NLL Loss: 0.248 Validation NLL Loss: 0.251 Validation Accuracy: 0.905\n",
            "Epoch: 10 of 10 Training NLL Loss: 0.241 Validation NLL Loss: 0.264 Validation Accuracy: 0.910\n",
            "End Time = 15:07:03\n"
          ],
          "name": "stdout"
        }
      ]
    },
    {
      "cell_type": "code",
      "metadata": {
        "id": "4k4o2nJO3QYD",
        "colab": {
          "base_uri": "https://localhost:8080/"
        },
        "outputId": "b410f6b5-4d99-4a03-b468-370db668809e"
      },
      "source": [
        "# RMSProp Optmizer:\n",
        "# Run time: 16:04:11 - 15:52:51 = 0:11:20\n",
        "# Epoch size: 10\n",
        "# This function trains the model based on training data\n",
        "def train_classifier_rmsprop():\n",
        "  # Set up hyper parameters\n",
        "  total_epochs = 10\n",
        "  steps = 0\n",
        "\n",
        "  # Training start time\n",
        "  current_time = datetime.now().strftime(\"%H:%M:%S\")\n",
        "  print(\"Start Time =\", current_time)\n",
        "\n",
        "  cnn_model.to('cuda')    # Making the model run on GPU\n",
        "  \n",
        "  for epoch in range(total_epochs):   # Will iterate through epochs\n",
        "    cnn_model.train()         # Set model to training mode\n",
        "    cumulative_loss = 0     # This variable stores the total loss for each epoch until it is printed\n",
        "\n",
        "    for image_batch, label_batch in iter(train_loader):\n",
        "      steps += 1\n",
        "      #print(steps)\n",
        "      image_batch, label_batch = image_batch.to('cuda'), label_batch.to('cuda')\n",
        "      rms_prop_optimizer.zero_grad()     # we need to set the gradients to zero before starting to do backpropragation because PyTorch accumulates the gradients on subsequent backward passes\n",
        "\n",
        "      output = cnn_model.forward(image_batch)  # Pass the image batch into model\n",
        "      loss = loss_function(output, label_batch)  # It is a NLLLoss, a negative log likelihood loss function\n",
        "\n",
        "      loss.backward()   # loss.backward() computes dloss/dx for every parameter x which has requires_grad=True. These are accumulated into x.grad for every parameter x.\n",
        "      rms_prop_optimizer.step()  # optimizer.step performs a parameter update based on the current gradient (stored in .grad attribute of a parameter) and the update rule\n",
        "\n",
        "      cumulative_loss += loss.item()    # item() method extracts the loss’s value as a Python float. Cumulative loss accumulates sum of running loss over each epoch\n",
        "\n",
        "      # if steps%25 == 0:\n",
        "      #   print(\"Batch Running: {}\".format(steps * 32))\n",
        "\n",
        "    cnn_model.eval()      # Turn model into evaluation mode\n",
        "    \n",
        "    # Turning off gradients for evaluation of the model\n",
        "    with torch.no_grad():\n",
        "      validation_loss, accuracy = evaluate(cnn_model, validate_loader, loss_function)     # Based on parameters passed, calculate validation loss and accuracy on validation dataset\n",
        "\n",
        "      print(\"Epoch: {} of {}\".format(epoch + 1, total_epochs),                                 # Epoch number\n",
        "      \"Training NLL Loss: {:.3f}\".format(cumulative_loss/len(train_loader)),                 # Average training loss\n",
        "      \"Validation NLL Loss: {:.3f}\".format(validation_loss/len(validate_loader)),   # Average validation loss: validation loss divided by total validation data set size\n",
        "      \"Validation Accuracy: {:.3f}\".format(accuracy/len(validate_loader)))      # Average accuracy\n",
        "      \n",
        "      cumulative_loss = 0    # Reset running loss\n",
        "      cnn_model.train()       # Turn back training mode\n",
        "\n",
        "    steps = 0\n",
        "  # Training end time\n",
        "  current_time = datetime.now().strftime(\"%H:%M:%S\")\n",
        "  print(\"End Time =\", current_time)\n",
        "\n",
        "train_classifier_rmsprop()\n",
        "\n",
        "# Saving the trained CNN model into file \n",
        "save_trained_model(cnn_model,'/content/drive/MyDrive/ColabNotebooks/IntelImageClassification')"
      ],
      "execution_count": 90,
      "outputs": [
        {
          "output_type": "stream",
          "text": [
            "Start Time = 15:52:51\n",
            "Epoch: 1 of 10 Training NLL Loss: 13.520 Validation NLL Loss: 1.429 Validation Accuracy: 0.892\n",
            "Epoch: 2 of 10 Training NLL Loss: 1.001 Validation NLL Loss: 0.772 Validation Accuracy: 0.900\n",
            "Epoch: 3 of 10 Training NLL Loss: 0.958 Validation NLL Loss: 0.694 Validation Accuracy: 0.910\n",
            "Epoch: 4 of 10 Training NLL Loss: 0.873 Validation NLL Loss: 1.581 Validation Accuracy: 0.860\n",
            "Epoch: 5 of 10 Training NLL Loss: 0.778 Validation NLL Loss: 0.659 Validation Accuracy: 0.914\n",
            "Epoch: 6 of 10 Training NLL Loss: 0.704 Validation NLL Loss: 0.825 Validation Accuracy: 0.889\n",
            "Epoch: 7 of 10 Training NLL Loss: 0.725 Validation NLL Loss: 0.896 Validation Accuracy: 0.900\n",
            "Epoch: 8 of 10 Training NLL Loss: 0.655 Validation NLL Loss: 0.894 Validation Accuracy: 0.887\n",
            "Epoch: 9 of 10 Training NLL Loss: 0.657 Validation NLL Loss: 0.595 Validation Accuracy: 0.914\n",
            "Epoch: 10 of 10 Training NLL Loss: 0.627 Validation NLL Loss: 0.594 Validation Accuracy: 0.901\n",
            "End Time = 16:04:11\n"
          ],
          "name": "stdout"
        }
      ]
    },
    {
      "cell_type": "markdown",
      "metadata": {
        "id": "qvD_o60YiaOb"
      },
      "source": [
        "### Accuracy of the model\n",
        "accuracy_test() measures the accuracy of the trained model. This is normally done to check how well the model performs on previously unseen test data."
      ]
    },
    {
      "cell_type": "code",
      "metadata": {
        "colab": {
          "base_uri": "https://localhost:8080/"
        },
        "id": "lDYvguKGsI6l",
        "outputId": "3534bb14-9e31-4f76-9824-a4dfb99482a1"
      },
      "source": [
        "# Similar to validation() function. But does not calculate loss on the training set.. Just the accuracy of model on test data\n",
        "# Run stats: \n",
        "def accuracy_test(cnn_model, test_loader):\n",
        "\n",
        "    # Do validation on the test set\n",
        "    # Setting to evaluation mode\n",
        "    cnn_model.eval()\n",
        "\n",
        "    # Changing model to run on GPU\n",
        "    cnn_model.to('cuda')\n",
        "\n",
        "    # Turning off gradients for evaluation of the model\n",
        "    with torch.no_grad():\n",
        "    \n",
        "        accuracy = 0\n",
        "    \n",
        "        for images, labels in iter(test_loader):\n",
        "            images, labels = images.to('cuda'), labels.to('cuda')\n",
        "            output = cnn_model.forward(images)\n",
        "            probability = torch.exp(output)      # Since last activation is log softmax, need to raise into exponent to get probability\n",
        "            is_equal = (labels.data == probability.max(dim=1)[1])\n",
        "            accuracy += is_equal.type(torch.FloatTensor).mean()   # Cumulative mean accuracy per batch\n",
        "        \n",
        "        print(\"Test Accuracy: {}\".format(accuracy/len(test_loader)))    \n",
        "        \n",
        "        \n",
        "accuracy_test(cnn_model, test_loader)"
      ],
      "execution_count": 91,
      "outputs": [
        {
          "output_type": "stream",
          "text": [
            "Test Accuracy: 0.9065824747085571\n"
          ],
          "name": "stdout"
        }
      ]
    },
    {
      "cell_type": "markdown",
      "metadata": {
        "id": "_fcJ90gojGM6"
      },
      "source": [
        "## Section 5: Classify Images\n",
        "Before classifying an image based on trained model. Load the model file using load_trained_model() function. This function loads the model data file which is located at filepath and is passed as parameter. \n",
        "\n",
        "After the trained model is loaded as cnn_model, we can proceed to classify images using image_classification() function. Where you can pass the path where image is located and can see what are the prediction classes and probabilities for predictions in bar graph."
      ]
    },
    {
      "cell_type": "code",
      "metadata": {
        "colab": {
          "base_uri": "https://localhost:8080/"
        },
        "id": "y6fBrgJxIw5D",
        "outputId": "5cf9c412-7e44-4064-cbe4-ccbe2be9d90b"
      },
      "source": [
        "# Function that loads and rebuilds the saved model. We need to save the model so that there are no \n",
        "\n",
        "def load_trained_model(filepath):\n",
        "    \n",
        "    saved_model = torch.load(filepath)\n",
        "    \n",
        "    cnn_model = models.vgg16(pretrained=True)\n",
        "\n",
        "    for p in cnn_model.parameters():\n",
        "      p.requires_grad = False\n",
        "    \n",
        "    cnn_model.class_to_idx = saved_model['class_to_idx']\n",
        "    \n",
        "    my_classifier = nn.Sequential(OrderedDict([('Linear1_Transform', nn.Linear(25088, 8000))   # Takes in 25088 input points from the pretrained VGG model, performs linear transformation and gives 8000 output points\n",
        "                                        , ('ReLU1_Activation', nn.ReLU())              # Rectified Linear Unit activation\n",
        "                                        , ('Dropout1', nn.Dropout(p = 0.5))            # randomly zeroes some of the elements of the input tensor with probability of 0.5 using samples from a Bernoulli distribution\n",
        "                                        , ('Linear2_Transform', nn.Linear(8000,6))    # Linear transform, from 8000 input points to 1000 points\n",
        "                                        # , ('ReLU2_Activation', nn.ReLU())              # Second Rectified Linear Unit activation\n",
        "                                        # , ('Dropout2', nn.Dropout(p = 0.5))            # randomly zeroes some of the elements of the input tensor with probability of 0.5 using samples from a Bernoulli distribution\n",
        "                                        # , ('Linear3_Transform', nn.Linear(1000,6))    # Third linear transform, from 1000 input points to 6 points\n",
        "                                        , ('LogSoftmaxOutput', nn.LogSoftmax(dim=1))  # Log Softmax activation\n",
        "                                        ]))\n",
        "    cnn_model.classifier = my_classifier\n",
        "    \n",
        "    cnn_model.load_state_dict(saved_model['model_state_dict'])\n",
        "    \n",
        "    return cnn_model\n",
        "\n",
        "cnn_model = load_trained_model('/content/drive/MyDrive/ColabNotebooks/IntelImageClassification/trained_model.data')\n",
        "print(cnn_model)"
      ],
      "execution_count": 22,
      "outputs": [
        {
          "output_type": "stream",
          "text": [
            "VGG(\n",
            "  (features): Sequential(\n",
            "    (0): Conv2d(3, 64, kernel_size=(3, 3), stride=(1, 1), padding=(1, 1))\n",
            "    (1): ReLU(inplace=True)\n",
            "    (2): Conv2d(64, 64, kernel_size=(3, 3), stride=(1, 1), padding=(1, 1))\n",
            "    (3): ReLU(inplace=True)\n",
            "    (4): MaxPool2d(kernel_size=2, stride=2, padding=0, dilation=1, ceil_mode=False)\n",
            "    (5): Conv2d(64, 128, kernel_size=(3, 3), stride=(1, 1), padding=(1, 1))\n",
            "    (6): ReLU(inplace=True)\n",
            "    (7): Conv2d(128, 128, kernel_size=(3, 3), stride=(1, 1), padding=(1, 1))\n",
            "    (8): ReLU(inplace=True)\n",
            "    (9): MaxPool2d(kernel_size=2, stride=2, padding=0, dilation=1, ceil_mode=False)\n",
            "    (10): Conv2d(128, 256, kernel_size=(3, 3), stride=(1, 1), padding=(1, 1))\n",
            "    (11): ReLU(inplace=True)\n",
            "    (12): Conv2d(256, 256, kernel_size=(3, 3), stride=(1, 1), padding=(1, 1))\n",
            "    (13): ReLU(inplace=True)\n",
            "    (14): Conv2d(256, 256, kernel_size=(3, 3), stride=(1, 1), padding=(1, 1))\n",
            "    (15): ReLU(inplace=True)\n",
            "    (16): MaxPool2d(kernel_size=2, stride=2, padding=0, dilation=1, ceil_mode=False)\n",
            "    (17): Conv2d(256, 512, kernel_size=(3, 3), stride=(1, 1), padding=(1, 1))\n",
            "    (18): ReLU(inplace=True)\n",
            "    (19): Conv2d(512, 512, kernel_size=(3, 3), stride=(1, 1), padding=(1, 1))\n",
            "    (20): ReLU(inplace=True)\n",
            "    (21): Conv2d(512, 512, kernel_size=(3, 3), stride=(1, 1), padding=(1, 1))\n",
            "    (22): ReLU(inplace=True)\n",
            "    (23): MaxPool2d(kernel_size=2, stride=2, padding=0, dilation=1, ceil_mode=False)\n",
            "    (24): Conv2d(512, 512, kernel_size=(3, 3), stride=(1, 1), padding=(1, 1))\n",
            "    (25): ReLU(inplace=True)\n",
            "    (26): Conv2d(512, 512, kernel_size=(3, 3), stride=(1, 1), padding=(1, 1))\n",
            "    (27): ReLU(inplace=True)\n",
            "    (28): Conv2d(512, 512, kernel_size=(3, 3), stride=(1, 1), padding=(1, 1))\n",
            "    (29): ReLU(inplace=True)\n",
            "    (30): MaxPool2d(kernel_size=2, stride=2, padding=0, dilation=1, ceil_mode=False)\n",
            "  )\n",
            "  (avgpool): AdaptiveAvgPool2d(output_size=(7, 7))\n",
            "  (classifier): Sequential(\n",
            "    (Linear1_Transform): Linear(in_features=25088, out_features=8000, bias=True)\n",
            "    (ReLU1_Activation): ReLU()\n",
            "    (Dropout1): Dropout(p=0.5, inplace=False)\n",
            "    (Linear2_Transform): Linear(in_features=8000, out_features=6, bias=True)\n",
            "    (LogSoftmaxOutput): LogSoftmax(dim=1)\n",
            "  )\n",
            ")\n"
          ],
          "name": "stdout"
        }
      ]
    },
    {
      "cell_type": "code",
      "metadata": {
        "id": "37tm_K71aMrI"
      },
      "source": [
        "def process_image(image_path):\n",
        "  ''' Scales, crops, and normalizes a PIL image for a PytTorch model. Preprocessing needs to be identical to the training sets.\n",
        "   '''\n",
        "  image = Image.open(image_path)\n",
        "  #print(image)\n",
        "\n",
        "  # Resize, thumbnail maintains aspect ratio, first changing the size to 200 by 200\n",
        "  image.resize((150,150))\n",
        "  print(image)\n",
        "  # Now cropping so that the size is 150*150 as the training data set\n",
        "  margin_l = (image.width - 150)/2   #  Get the crop start at left\n",
        "  margin_r = margin_l + 150\n",
        "  margin_b = (image.height - 150)/2  # Get the crop start at bottom\n",
        "  margin_t = margin_b + 150\n",
        "\n",
        "  image = image.crop((margin_l, margin_b, margin_r, margin_t))\n",
        "\n",
        "  # Normalize so that the original 0-255 range is between 0-1\n",
        "  np_image = np.array(image)/255\n",
        "\n",
        "  # Z scoring the image pixel range so that it matches the training dataset std and mean\n",
        "  mean = np.array([0.485, 0.456, 0.406])\n",
        "  std = np.array([0.229, 0.224, 0.225])\n",
        "  np_image = (np_image - mean) / std   # z score\n",
        "\n",
        "  # Pytorch needs the channel to be the first element in the array but PIL image has channel as third dimension. Re-arranges the numpy array\n",
        "  np_image = np_image.transpose((2,0,1))\n",
        "\n",
        "  return np_image"
      ],
      "execution_count": 76,
      "outputs": []
    },
    {
      "cell_type": "code",
      "metadata": {
        "id": "LG4kpNpxfN_s"
      },
      "source": [
        "def display_image(image, axis = None):\n",
        "  if axis is None:\n",
        "    figure, axis = plt.subplots()\n",
        "  # Rearranging the array so that channel is 3 dimension.. Pytorch as channel in first element of the arry, matplotlib has it as third element\n",
        "  image = image.transpose((1,2,0))\n",
        "\n",
        "  # Undo z scoring to get actual pixel values in 0-1 range\n",
        "  mean = np.array([0.485,0.456,0.406])\n",
        "  std = np.array([0.229,0.224,0.225])\n",
        "  image = image * std + mean\n",
        "\n",
        "  axis.imshow(image)\n",
        "\n",
        "  return axis"
      ],
      "execution_count": 107,
      "outputs": []
    },
    {
      "cell_type": "code",
      "metadata": {
        "colab": {
          "base_uri": "https://localhost:8080/"
        },
        "id": "989Rs37cfrRT",
        "outputId": "03aeed07-b3f9-48a3-8b22-08767d0b656d"
      },
      "source": [
        "def classify (image_path, model):\n",
        "  '''\n",
        "  Predict the class of an image using a trained deep learning model\n",
        "  '''\n",
        "  # Load the image in path to get numpy array\n",
        "  image = process_image(image_path)\n",
        "\n",
        "  # Convert the numpy array to PyTorch tensor\n",
        "  image = torch.from_numpy(image).type(torch.FloatTensor)\n",
        "\n",
        "  # Adds an additional dimension to the tensor\n",
        "  image = image.unsqueeze(0)\n",
        "  # Pass the image tensor to the model\n",
        "  output = model.forward(image)\n",
        "\n",
        "  # Get the probabilites by exponential, since the output is log softmax, need to exp to get accurate output probability\n",
        "  probabilities = torch.exp(output)\n",
        "\n",
        "  top_prediction_prob, top_indices = probabilities.topk(6)\n",
        "\n",
        "  #print(probabilities.topk(6))\n",
        "  # Get probabilities and ranking tensor predicted by the model\n",
        "  top_predictions_tensor = top_prediction_prob.detach().type(torch.FloatTensor)\n",
        "  top_index_rank_tensor = top_indices.detach().type(torch.FloatTensor)\n",
        "\n",
        "  # Convert tensors into lists\n",
        "  top_predictions = top_predictions_tensor.numpy().tolist()[0]\n",
        "  top_index_rank = top_index_rank_tensor.numpy().tolist()[0]\n",
        "\n",
        "  # print(model.class_to_idx)\n",
        "  # for key , value in model.class_to_idx.items():\n",
        "  #   print(key, value)\n",
        "\n",
        "  # change class-index mapping to index-class mapping so that it can be used to identify the actual class name from index\n",
        "  index_class = {value: key for key , value in model.class_to_idx.items()}\n",
        "\n",
        "  classifications = [index_class[index] for index in top_index_rank]\n",
        "\n",
        "  return top_predictions, classifications\n",
        "\n",
        "# classification_prob, classes = classify('/content/drive/MyDrive/ColabNotebooks/IntelImageClassification/seg_pred/seg_pred/952.jpg', cnn_model)\n",
        "\n",
        "prediction_prob, classifications = classify('/content/drive/MyDrive/ColabNotebooks/IntelImageClassification/mountain.jpg', cnn_model)\n",
        "print(prediction_prob)\n",
        "print(classifications)\n",
        "  \n"
      ],
      "execution_count": 81,
      "outputs": [
        {
          "output_type": "stream",
          "text": [
            "<PIL.JpegImagePlugin.JpegImageFile image mode=RGB size=1600x1112 at 0x7F9D8A5F9B90>\n",
            "[0.9991142153739929, 0.0008856986532919109, 6.638138216885636e-08, 1.6864157311570163e-16, 2.0359280611481913e-17, 3.330284076101042e-20]\n",
            "['glacier', 'mountain', 'sea', 'forest', 'street', 'buildings']\n"
          ],
          "name": "stdout"
        }
      ]
    },
    {
      "cell_type": "code",
      "metadata": {
        "id": "unnOILcxqpOv",
        "colab": {
          "base_uri": "https://localhost:8080/",
          "height": 645
        },
        "outputId": "eb25fdac-8f6d-4766-ba43-e27da8a83426"
      },
      "source": [
        "def image_classification(imagepath, model):\n",
        "  plt.figure(figsize=(10,10))\n",
        "  plt_a = plt.subplot(2,1,1)\n",
        "  given_image = process_image(imagepath)\n",
        "\n",
        "  display_image(given_image, plt_a)\n",
        "\n",
        "  # Classify the given image \n",
        "  prediction_prob, classifications = classify(imagepath, model)\n",
        "\n",
        "  # Show bar chart with probability values\n",
        "  plt.subplot(2,1,2)\n",
        "  sns.set_theme(style=\"white\", context=\"talk\")\n",
        "  sns.barplot(x=prediction_prob, y=classifications, palette=\"deep\" )\n",
        "\n",
        "  sns.despine(bottom=True)\n",
        "\n",
        "\n",
        "display_image_class('/content/drive/MyDrive/ColabNotebooks/IntelImageClassification/street_1.jpg', cnn_model)"
      ],
      "execution_count": 98,
      "outputs": [
        {
          "output_type": "stream",
          "text": [
            "<PIL.JpegImagePlugin.JpegImageFile image mode=RGB size=975x549 at 0x7F9D8A2597D0>\n",
            "<PIL.JpegImagePlugin.JpegImageFile image mode=RGB size=975x549 at 0x7F9D8AAD8850>\n"
          ],
          "name": "stdout"
        },
        {
          "output_type": "display_data",
          "data": {
            "image/png": "[encoded data removed]",
            "text/plain": [
              "<Figure size 720x720 with 2 Axes>"
            ]
          },
          "metadata": {
            "tags": []
          }
        }
      ]
    },
    {
      "cell_type": "code",
      "metadata": {
        "id": "UY6IiGj_XmXq"
      },
      "source": [
        ""
      ],
      "execution_count": null,
      "outputs": []
    }
  ]
}